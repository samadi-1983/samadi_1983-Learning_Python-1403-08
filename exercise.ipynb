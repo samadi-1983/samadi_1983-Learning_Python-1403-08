{
 "cells": [
  {
   "cell_type": "markdown",
   "metadata": {},
   "source": [
    "#1"
   ]
  },
  {
   "cell_type": "code",
   "execution_count": null,
   "metadata": {},
   "outputs": [],
   "source": [
    "def test_distinct(data):\n",
    "    if len(data) == len(set(data)):\n",
    "        return True\n",
    "    else:\n",
    "        return False\n",
    "\n",
    "# Call the test_distinct function with a list [1, 5, 7, 9] and print the result.\n",
    "print(test_distinct([1, 5, 7, 9]))\n",
    "\n",
    "# Call the test_distinct function with a list [2, 4, 5, 5, 7, 9] and print the result.\n",
    "print(test_distinct([2, 4, 5, 5, 7, 9]))\n"
   ]
  }
 ],
 "metadata": {
  "language_info": {
   "name": "python"
  }
 },
 "nbformat": 4,
 "nbformat_minor": 2
}
