{
 "cells": [
  {
   "cell_type": "code",
   "execution_count": 6,
   "metadata": {},
   "outputs": [
    {
     "name": "stdout",
     "output_type": "stream",
     "text": [
      "میانگین اعداد از 0 تا 8000052 برابر است با: 4000026.0\n"
     ]
    }
   ],
   "source": [
    "user_input = input('لطفا یک عدد صحیح وارد کنید: ')\n",
    "number = int(user_input)\n",
    "\n",
    "\n",
    "sum_of_numbers = 0\n",
    "count = 0\n",
    "for i in range(number + 1):\n",
    "    sum_of_numbers += i\n",
    "    count += 1\n",
    "\n",
    "average = sum_of_numbers / count if count > 0 else 0\n",
    "print(\"میانگین اعداد از 0 تا\", number, \"برابر است با:\", average)"
   ]
  }
 ],
 "metadata": {
  "kernelspec": {
   "display_name": "Python 3",
   "language": "python",
   "name": "python3"
  },
  "language_info": {
   "codemirror_mode": {
    "name": "ipython",
    "version": 3
   },
   "file_extension": ".py",
   "mimetype": "text/x-python",
   "name": "python",
   "nbconvert_exporter": "python",
   "pygments_lexer": "ipython3",
   "version": "3.10.11"
  }
 },
 "nbformat": 4,
 "nbformat_minor": 2
}
