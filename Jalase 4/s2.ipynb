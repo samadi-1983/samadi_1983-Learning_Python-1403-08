{
 "cells": [
  {
   "cell_type": "code",
   "execution_count": 1,
   "metadata": {},
   "outputs": [
    {
     "data": {
      "text/plain": [
       "('duosaM', 'duosaM')"
      ]
     },
     "execution_count": 1,
     "metadata": {},
     "output_type": "execute_result"
    }
   ],
   "source": [
    "# 1. Using slicing\n",
    "name = 'Masoud'\n",
    "reversed_name_slicing = name[::-1]\n",
    "\n",
    "# 2. Using loops\n",
    "reversed_name_loop = ''\n",
    "for char in name:\n",
    "    reversed_name_loop = char + reversed_name_loop\n",
    "\n",
    "reversed_name_slicing, reversed_name_loop"
   ]
  },
  {
   "cell_type": "code",
   "execution_count": null,
   "metadata": {},
   "outputs": [],
   "source": []
  }
 ],
 "metadata": {
  "kernelspec": {
   "display_name": "Python 3",
   "language": "python",
   "name": "python3"
  },
  "language_info": {
   "codemirror_mode": {
    "name": "ipython",
    "version": 3
   },
   "file_extension": ".py",
   "mimetype": "text/x-python",
   "name": "python",
   "nbconvert_exporter": "python",
   "pygments_lexer": "ipython3",
   "version": "3.10.11"
  }
 },
 "nbformat": 4,
 "nbformat_minor": 2
}
