{
 "cells": [
  {
   "cell_type": "code",
   "execution_count": 1,
   "metadata": {},
   "outputs": [
    {
     "name": "stdout",
     "output_type": "stream",
     "text": [
      "نتیجه: 5000\n"
     ]
    }
   ],
   "source": [
    "def calculate_sum_and_product(n):\n",
    "    sum_odds = 0\n",
    "    sum_multiples_of_5 = 0\n",
    "    \n",
    "    for i in range(1, n + 1, 2):\n",
    "        sum_odds += i\n",
    "    \n",
    "    for i in range(5, n + 1, 5):\n",
    "        sum_multiples_of_5 += i\n",
    "\n",
    "    result = sum_odds * sum_multiples_of_5\n",
    "    return result\n",
    "\n",
    "n = int(input(\"یک عدد صحیح وارد کنید: \"))\n",
    "result = calculate_sum_and_product(n)\n",
    "print(f\"نتیجه: {result}\")\n"
   ]
  }
 ],
 "metadata": {
  "kernelspec": {
   "display_name": "Python 3",
   "language": "python",
   "name": "python3"
  },
  "language_info": {
   "codemirror_mode": {
    "name": "ipython",
    "version": 3
   },
   "file_extension": ".py",
   "mimetype": "text/x-python",
   "name": "python",
   "nbconvert_exporter": "python",
   "pygments_lexer": "ipython3",
   "version": "3.10.11"
  }
 },
 "nbformat": 4,
 "nbformat_minor": 2
}
