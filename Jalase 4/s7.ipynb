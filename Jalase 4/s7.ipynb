{
 "cells": [
  {
   "cell_type": "code",
   "execution_count": null,
   "metadata": {},
   "outputs": [],
   "source": [
    "def multiply_ten_numbers():\n",
    "    product = 1\n",
    "    \n",
    "    for i in range(10):\n",
    "      \n",
    "        number = int(input(f\"لطفاً عدد صحیح {i + 1} را وارد کنید: \"))\n",
    "        product *= number  \n",
    "    \n",
    "    return product\n",
    "\n",
    "\n",
    "result = multiply_ten_numbers()\n",
    "print(f\"محصول 10 عدد وارد شده: {result}\")\n"
   ]
  }
 ],
 "metadata": {
  "language_info": {
   "name": "python"
  }
 },
 "nbformat": 4,
 "nbformat_minor": 2
}
