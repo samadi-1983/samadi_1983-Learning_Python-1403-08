{
 "cells": [
  {
   "cell_type": "code",
   "execution_count": 1,
   "metadata": {},
   "outputs": [
    {
     "name": "stdout",
     "output_type": "stream",
     "text": [
      "مقادیر عددی: [24, 2]\n",
      "مقادیر رشته‌ای: ['days', 'hours']\n"
     ]
    }
   ],
   "source": [
    "import re\n",
    "\n",
    "user_input = input('لطفا مقداری را وارد کنید  ')\n",
    "numbers = re.findall(r'\\d+', user_input) \n",
    "strings = re.findall(r'[a-zA-Z]+', user_input) \n",
    "\n",
    "number_values = [int(num) for num in numbers]\n",
    "\n",
    "print(\"مقادیر عددی:\", number_values)\n",
    "print(\"مقادیر رشته‌ای:\", strings)\n"
   ]
  }
 ],
 "metadata": {
  "kernelspec": {
   "display_name": "Python 3",
   "language": "python",
   "name": "python3"
  },
  "language_info": {
   "codemirror_mode": {
    "name": "ipython",
    "version": 3
   },
   "file_extension": ".py",
   "mimetype": "text/x-python",
   "name": "python",
   "nbconvert_exporter": "python",
   "pygments_lexer": "ipython3",
   "version": "3.10.11"
  }
 },
 "nbformat": 4,
 "nbformat_minor": 2
}
