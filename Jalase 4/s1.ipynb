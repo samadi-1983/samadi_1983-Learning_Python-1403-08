{
 "cells": [
  {
   "cell_type": "code",
   "execution_count": 1,
   "metadata": {},
   "outputs": [
    {
     "data": {
      "text/plain": [
       "[13.200000000000001,\n",
       " 13.365,\n",
       " 13.530000000000001,\n",
       " 13.695,\n",
       " 13.860000000000001,\n",
       " 14.025,\n",
       " 14.190000000000001,\n",
       " 14.355,\n",
       " 14.520000000000001,\n",
       " 14.685,\n",
       " 14.850000000000001,\n",
       " 15.015,\n",
       " 15.180000000000001,\n",
       " 15.345,\n",
       " 15.510000000000002,\n",
       " 15.675]"
      ]
     },
     "execution_count": 1,
     "metadata": {},
     "output_type": "execute_result"
    }
   ],
   "source": [
    "\n",
    "initial_weight_earth = 80  \n",
    "years = 15  \n",
    "moon_weight_factor = 0.165  \n",
    "\n",
    "moon_weights = []\n",
    "for year in range(years + 1):\n",
    "    current_weight = initial_weight_earth + (weight_increase_per_year * year)\n",
    "    moon_weight = current_weight * moon_weight_factor\n",
    "    moon_weights.append(moon_weight)\n",
    "\n",
    "moon_weights"
   ]
  },
  {
   "cell_type": "code",
   "execution_count": null,
   "metadata": {},
   "outputs": [],
   "source": []
  }
 ],
 "metadata": {
  "kernelspec": {
   "display_name": "Python 3",
   "language": "python",
   "name": "python3"
  },
  "language_info": {
   "codemirror_mode": {
    "name": "ipython",
    "version": 3
   },
   "file_extension": ".py",
   "mimetype": "text/x-python",
   "name": "python",
   "nbconvert_exporter": "python",
   "pygments_lexer": "ipython3",
   "version": "3.10.11"
  }
 },
 "nbformat": 4,
 "nbformat_minor": 2
}
