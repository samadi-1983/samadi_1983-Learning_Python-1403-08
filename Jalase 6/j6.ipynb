{
 "cells": [
  {
   "cell_type": "markdown",
   "metadata": {},
   "source": [
    "#1"
   ]
  },
  {
   "cell_type": "code",
   "execution_count": 2,
   "metadata": {},
   "outputs": [
    {
     "name": "stdout",
     "output_type": "stream",
     "text": [
      "نتیجه ضرب مقادیر داخل لیست: 120\n"
     ]
    }
   ],
   "source": [
    "values = [1, 2, 3, 4, 5] \n",
    "\n",
    "\n",
    "product = 1\n",
    "\n",
    "\n",
    "for value in values:\n",
    "    product *= value  \n",
    "\n",
    "print(\"نتیجه ضرب مقادیر داخل لیست:\", product)\n"
   ]
  },
  {
   "cell_type": "markdown",
   "metadata": {},
   "source": [
    "#2\n"
   ]
  },
  {
   "cell_type": "code",
   "execution_count": 3,
   "metadata": {},
   "outputs": [
    {
     "name": "stdout",
     "output_type": "stream",
     "text": [
      "[1, 2, 3, 4, 3, 5, 3, 6, 3, 7]\n"
     ]
    }
   ],
   "source": [
    "number=[1,2,3,4,3,5,3,6,3,7]\n",
    "b=set(number)\n",
    "print(number)"
   ]
  },
  {
   "cell_type": "markdown",
   "metadata": {},
   "source": [
    "#3"
   ]
  },
  {
   "cell_type": "code",
   "execution_count": 9,
   "metadata": {},
   "outputs": [
    {
     "name": "stdout",
     "output_type": "stream",
     "text": [
      "[4, 5]\n"
     ]
    }
   ],
   "source": [
    "list1 = [1, 2, 3, 4, 5]\n",
    "list2 = [4, 5, 6, 7, 8]\n",
    "\n",
    "common_list = []\n",
    "\n",
    "for item in list1:\n",
    "  \n",
    "    if item in list2:\n",
    "        common_list.append(item)\n",
    "\n",
    "\n",
    "print(common_list)\n"
   ]
  },
  {
   "cell_type": "markdown",
   "metadata": {},
   "source": [
    "#4\n"
   ]
  },
  {
   "cell_type": "code",
   "execution_count": null,
   "metadata": {},
   "outputs": [
    {
     "name": "stdout",
     "output_type": "stream",
     "text": [
      "[1, 2, 3, 6, 7, 8]\n"
     ]
    }
   ],
   "source": [
    "list1 = [1, 2, 3, 4, 5]\n",
    "list2 = [4, 5, 6, 7, 8]\n",
    "\n",
    "non_common_list = []\n",
    "\n",
    "for item in list1:\n",
    "    if item not in list2:\n",
    "        non_common_list.append(item)\n",
    "\n",
    "for item in list2:\n",
    "    if item not in list1:\n",
    "        non_common_list.append(item)\n",
    "\n",
    "print(non_common_list)\n"
   ]
  },
  {
   "cell_type": "markdown",
   "metadata": {},
   "source": [
    "#5"
   ]
  },
  {
   "cell_type": "code",
   "execution_count": 11,
   "metadata": {},
   "outputs": [
    {
     "name": "stdout",
     "output_type": "stream",
     "text": [
      "حروف صدادار موجود در جمله: ['i', 'e', 'a', 'o', 'u']\n"
     ]
    }
   ],
   "source": [
    "vowels = 'aeiouAEIOU'\n",
    "\n",
    "input_sentence = input(\"لطفاً یک جمله وارد کنید: \")\n",
    "\n",
    "found_vowels = []\n",
    "\n",
    "for char in input_sentence:\n",
    "    if char in vowels and char not in found_vowels:\n",
    "        found_vowels.append(char)  \n",
    "\n",
    "\n",
    "print(\"حروف صدادار موجود در جمله:\", found_vowels)\n"
   ]
  }
 ],
 "metadata": {
  "kernelspec": {
   "display_name": "Python 3",
   "language": "python",
   "name": "python3"
  },
  "language_info": {
   "codemirror_mode": {
    "name": "ipython",
    "version": 3
   },
   "file_extension": ".py",
   "mimetype": "text/x-python",
   "name": "python",
   "nbconvert_exporter": "python",
   "pygments_lexer": "ipython3",
   "version": "3.10.11"
  }
 },
 "nbformat": 4,
 "nbformat_minor": 2
}
