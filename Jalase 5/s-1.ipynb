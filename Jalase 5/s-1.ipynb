{
 "cells": [
  {
   "cell_type": "code",
   "execution_count": 3,
   "metadata": {},
   "outputs": [
    {
     "name": "stdout",
     "output_type": "stream",
     "text": [
      "****\n",
      "*\n",
      "*\n",
      "****\n",
      "*\n",
      "*\n",
      "****\n"
     ]
    }
   ],
   "source": [
    "def print_e_pattern():\n",
    "    pattern = [\n",
    "        \"****\",\n",
    "        \"*\",\n",
    "        \"*\",\n",
    "        \"****\",\n",
    "        \"*\",\n",
    "        \"*\",\n",
    "        \"****\"\n",
    "    ]\n",
    "    \n",
    "    for line in pattern:\n",
    "        print(line)\n",
    "\n",
    "# فراخوانی تابع برای چاپ الگو\n",
    "print_e_pattern()\n"
   ]
  }
 ],
 "metadata": {
  "kernelspec": {
   "display_name": "Python 3",
   "language": "python",
   "name": "python3"
  },
  "language_info": {
   "codemirror_mode": {
    "name": "ipython",
    "version": 3
   },
   "file_extension": ".py",
   "mimetype": "text/x-python",
   "name": "python",
   "nbconvert_exporter": "python",
   "pygments_lexer": "ipython3",
   "version": "3.10.11"
  }
 },
 "nbformat": 4,
 "nbformat_minor": 2
}
