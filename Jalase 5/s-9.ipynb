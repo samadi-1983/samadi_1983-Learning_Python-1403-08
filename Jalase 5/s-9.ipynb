{
 "cells": [
  {
   "cell_type": "code",
   "execution_count": 6,
   "metadata": {},
   "outputs": [
    {
     "name": "stdout",
     "output_type": "stream",
     "text": [
      "عدد پیدا شد!\n"
     ]
    }
   ],
   "source": [
    "user_input = int(input(\"لطفاً یک عدد بین 1 تا 50 وارد کنید: \"))\n",
    "found = False  \n",
    "\n",
    "for num in range(1, 51):  \n",
    "    if num == user_input: \n",
    "        found = True   \n",
    "        print(\"عدد پیدا شد!\")\n",
    "        break  \n",
    "\n",
    "if not found: \n",
    "    print(\"عدد پیدا نشد.\")\n"
   ]
  }
 ],
 "metadata": {
  "kernelspec": {
   "display_name": "Python 3",
   "language": "python",
   "name": "python3"
  },
  "language_info": {
   "codemirror_mode": {
    "name": "ipython",
    "version": 3
   },
   "file_extension": ".py",
   "mimetype": "text/x-python",
   "name": "python",
   "nbconvert_exporter": "python",
   "pygments_lexer": "ipython3",
   "version": "3.10.11"
  }
 },
 "nbformat": 4,
 "nbformat_minor": 2
}
