{
 "cells": [
  {
   "cell_type": "markdown",
   "metadata": {},
   "source": [
    "#1"
   ]
  },
  {
   "cell_type": "code",
   "execution_count": 4,
   "metadata": {},
   "outputs": [
    {
     "name": "stdout",
     "output_type": "stream",
     "text": [
      "امروز 241886امین روز از زندگی شما است.\n"
     ]
    }
   ],
   "source": [
    "from datetime import datetime\n",
    "\n",
    "def calculate_life_days(birth_date_str):\n",
    "   \n",
    "    birth_date = datetime.strptime(birth_date_str, \"%Y-%m-%d\")\n",
    "\n",
    "    today = datetime.now()\n",
    "\n",
    "    delta = today - birth_date\n",
    "\n",
    "    return delta.days\n",
    "\n",
    "birth_date_str = input(\"لطفاً تاریخ تولد خود را به فرمت سال-ماه-روز وارد کنید (مثلاً 1990-01-01): \")\n",
    "days_alive = calculate_life_days(birth_date_str)\n",
    "print(f\"امروز {days_alive}امین روز از زندگی شما است.\")\n"
   ]
  },
  {
   "cell_type": "markdown",
   "metadata": {},
   "source": [
    "#2"
   ]
  },
  {
   "cell_type": "code",
   "execution_count": 5,
   "metadata": {},
   "outputs": [
    {
     "name": "stdout",
     "output_type": "stream",
     "text": [
      "[1, 3, 5, 7, 9, 11, 13, 15, 17, 19, 21, 23, 25, 27, 29, 31, 33, 35, 37, 39, 41, 43, 45, 47, 49, 3, 5, 9, 15, 21, 25, 27, 33, 35, 39, 45]\n"
     ]
    }
   ],
   "source": [
    "odd_numbers = [i for i in range(1, 51, 2)]\n",
    "\n",
    "for number in odd_numbers[:]:  \n",
    "    if number % 3 == 0 or number % 5 == 0:\n",
    "        odd_numbers.append(number)\n",
    "\n",
    "print(odd_numbers)\n"
   ]
  },
  {
   "cell_type": "markdown",
   "metadata": {},
   "source": [
    "#3"
   ]
  },
  {
   "cell_type": "code",
   "execution_count": 6,
   "metadata": {},
   "outputs": [
    {
     "name": "stdout",
     "output_type": "stream",
     "text": [
      "['yello', 'hello', 'hallo', 'hallo', 'mello', 'yello', 'hallo', 'yello', 'mello', 'mello', 'hallo', 'yello', 'yello', 'hello', 'hallo', 'hallo', 'hello', 'yello', 'yello', 'yello', 'hallo', 'mello', 'hello', 'hallo', 'hello', 'hello', 'mello', 'yello', 'mello', 'mello', 'mello', 'yello', 'yello', 'yello', 'mello', 'mello', 'hallo', 'mello', 'hello', 'hallo', 'hallo', 'mello', 'mello', 'mello', 'hello', 'hello', 'mello', 'mello', 'hello', 'hallo', 'hallo', 'yello', 'yello', 'mello', 'hello', 'mello', 'yello', 'mello', 'hello', 'hello', 'yello', 'mello', 'hello', 'yello', 'hallo', 'hallo', 'mello', 'mello', 'hallo', 'hello', 'mello', 'hello', 'yello', 'hallo', 'hallo', 'hello', 'yello', 'yello', 'hallo', 'hello', 'hallo', 'yello', 'yello', 'hallo', 'hallo', 'yello', 'hallo', 'yello', 'yello', 'mello', 'yello', 'yello', 'yello', 'yello', 'hallo', 'mello', 'hallo', 'yello', 'hallo', 'hello']\n"
     ]
    }
   ],
   "source": [
    "import random\n",
    "\n",
    "choices = [\"hello\", \"yello\", \"mello\", \"hallo\"]\n",
    "\n",
    "random_list = [random.choice(choices) for _ in range(100)]\n",
    "\n",
    "print(random_list)\n"
   ]
  },
  {
   "cell_type": "markdown",
   "metadata": {},
   "source": [
    "#4"
   ]
  },
  {
   "cell_type": "code",
   "execution_count": 7,
   "metadata": {},
   "outputs": [
    {
     "name": "stdout",
     "output_type": "stream",
     "text": [
      "['hello', 'hello', 'hello', 'hello', 'hello', 'hello', 'hello', 'hello', 'hello', 'hello', 'hello', 'hello', 'hello', 'hello', 'hello', 'hello', 'hello', 'hello', 'hello', 'hello', 'hello', 'hello', 'hello', 'hello']\n"
     ]
    }
   ],
   "source": [
    "import random\n",
    "\n",
    "choices = [\"hello\", \"yello\", \"mello\", \"hallo\"]\n",
    "\n",
    "random_list = [random.choice(choices) for _ in range(100)]\n",
    "\n",
    "filtered_list = [item for item in random_list if item == \"hello\"]\n",
    "\n",
    "print(filtered_list)\n"
   ]
  },
  {
   "cell_type": "markdown",
   "metadata": {},
   "source": [
    "#5"
   ]
  },
  {
   "cell_type": "code",
   "execution_count": 8,
   "metadata": {},
   "outputs": [
    {
     "name": "stdout",
     "output_type": "stream",
     "text": [
      "{'milk': 5, 'sugar': 2, 'butter': 10, 'yogurt': 1, 'cheese': 3}\n"
     ]
    }
   ],
   "source": [
    "list_1 = [\"milk\", \"sugar\", \"butter\", \"yogurt\", \"cheese\"]\n",
    "list_2 = [5, 2, 10, 1, 3]\n",
    "\n",
    "shopping_dict = dict(zip(list_1, list_2))\n",
    "\n",
    "print(shopping_dict)\n"
   ]
  },
  {
   "cell_type": "markdown",
   "metadata": {},
   "source": [
    "#6"
   ]
  },
  {
   "cell_type": "code",
   "execution_count": 9,
   "metadata": {},
   "outputs": [
    {
     "name": "stdout",
     "output_type": "stream",
     "text": [
      "{'milk': 5, 'sugar': 2, 'butter': 10, 'yogurt': 1, 'cheese': 3}\n"
     ]
    }
   ],
   "source": [
    "list_1 = [\"milk\", \"sugar\", \"butter\", \"yogurt\", \"cheese\"]\n",
    "list_2 = [5, 2, 10, 1, 3]\n",
    "\n",
    "shopping_dict = dict(zip(list_1, list_2))\n",
    "\n",
    "print(shopping_dict)\n"
   ]
  },
  {
   "cell_type": "markdown",
   "metadata": {},
   "source": [
    "#7"
   ]
  },
  {
   "cell_type": "code",
   "execution_count": 10,
   "metadata": {},
   "outputs": [
    {
     "name": "stdout",
     "output_type": "stream",
     "text": [
      "Maximum value: 10\n",
      "Minimum value: 1\n"
     ]
    }
   ],
   "source": [
    "shopping_dict = {\n",
    "    'milk': 5,\n",
    "    'sugar': 2,\n",
    "    'butter': 10,\n",
    "    'yogurt': 1,\n",
    "    'cheese': 3\n",
    "}\n",
    "\n",
    "max_value = max(shopping_dict.values())\n",
    "min_value = min(shopping_dict.values())\n",
    "\n",
    "print(f'Maximum value: {max_value}')\n",
    "print(f'Minimum value: {min_value}')\n"
   ]
  },
  {
   "cell_type": "markdown",
   "metadata": {},
   "source": [
    "#8"
   ]
  },
  {
   "cell_type": "code",
   "execution_count": 12,
   "metadata": {},
   "outputs": [
    {
     "name": "stdout",
     "output_type": "stream",
     "text": [
      "{'I’d': 1, 'rather': 1, 'regret': 2, 'the': 2, 'things': 2, 'I’ve': 1, 'done': 2, 'than': 1, 'I': 1, 'haven’t': 1}\n"
     ]
    }
   ],
   "source": [
    "sentence = input(\"لطفاً یک جمله وارد کنید: \")\n",
    "\n",
    "words = sentence.split()\n",
    "\n",
    "word_count = {}\n",
    "\n",
    "for word in words:\n",
    "    if word in word_count:\n",
    "        word_count[word] += 1\n",
    "    else:\n",
    "        word_count[word] = 1\n",
    "\n",
    "print(word_count)\n"
   ]
  },
  {
   "cell_type": "markdown",
   "metadata": {},
   "source": [
    "#9"
   ]
  },
  {
   "cell_type": "code",
   "execution_count": 13,
   "metadata": {},
   "outputs": [
    {
     "name": "stdout",
     "output_type": "stream",
     "text": [
      "{'a': 400, 'b': 400, 'c': 300, 'd': 400}\n"
     ]
    }
   ],
   "source": [
    "d1 = {'a': 100, 'b': 200, 'c': 300}\n",
    "d2 = {'a': 300, 'b': 200, 'd': 400}\n",
    "\n",
    "merged_dict = d1.copy()  \n",
    "for key, value in d2.items():  \n",
    "    if key in merged_dict:  \n",
    "        merged_dict[key] += value   \n",
    "    else:\n",
    "        merged_dict[key] = value  \n",
    "\n",
    "print(merged_dict)\n"
   ]
  }
 ],
 "metadata": {
  "kernelspec": {
   "display_name": "Python 3",
   "language": "python",
   "name": "python3"
  },
  "language_info": {
   "codemirror_mode": {
    "name": "ipython",
    "version": 3
   },
   "file_extension": ".py",
   "mimetype": "text/x-python",
   "name": "python",
   "nbconvert_exporter": "python",
   "pygments_lexer": "ipython3",
   "version": "3.10.11"
  }
 },
 "nbformat": 4,
 "nbformat_minor": 2
}
