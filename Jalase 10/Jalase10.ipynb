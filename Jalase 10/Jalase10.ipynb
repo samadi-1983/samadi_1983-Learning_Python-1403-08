{
 "cells": [
  {
   "cell_type": "markdown",
   "metadata": {},
   "source": [
    "#1"
   ]
  },
  {
   "cell_type": "code",
   "execution_count": 1,
   "metadata": {},
   "outputs": [
    {
     "name": "stdout",
     "output_type": "stream",
     "text": [
      "فایل 'source.txt' پیدا نشد.\n"
     ]
    }
   ],
   "source": [
    "def copy_file(source_file, destination_file):\n",
    "\n",
    "    try:\n",
    "\n",
    "        with open(source_file, 'r') as src:\n",
    "\n",
    "            content = src.read()\n",
    "        \n",
    "        with open(destination_file, 'w') as dest:\n",
    "\n",
    "            dest.write(content)\n",
    "\n",
    "        print(f\"محتوای '{source_file}' با موفقیت به '{destination_file}' کپی شد.\")\n",
    "    \n",
    "    except FileNotFoundError:\n",
    "        print(f\"فایل '{source_file}' پیدا نشد.\")\n",
    "    except Exception as e:\n",
    "        print(f\"خطا در حین کپی: {e}\")\n",
    "\n",
    "\n",
    "source_file = 'source.txt' \n",
    "destination_file = 'destination.txt'\n",
    "copy_file(source_file, destination_file)\n"
   ]
  },
  {
   "cell_type": "markdown",
   "metadata": {},
   "source": [
    "#2"
   ]
  },
  {
   "cell_type": "code",
   "execution_count": 2,
   "metadata": {},
   "outputs": [
    {
     "name": "stdout",
     "output_type": "stream",
     "text": [
      "فایل 'example.txt' پیدا نشد.\n"
     ]
    }
   ],
   "source": [
    "def replace_word_in_file(file_path, old_word, new_word):\n",
    "    try:\n",
    "\n",
    "        with open(file_path, 'r') as file:\n",
    "\n",
    "            content = file.read()\n",
    "        \n",
    "\n",
    "        new_content = content.replace(old_word, new_word)\n",
    "        \n",
    "\n",
    "        with open(file_path, 'w') as file:\n",
    "            file.write(new_content)\n",
    "\n",
    "        print(f\"کلمه '{old_word}' با کلمه '{new_word}' در فایل '{file_path}' جایگزین شد.\")\n",
    "    \n",
    "    except FileNotFoundError:\n",
    "        print(f\"فایل '{file_path}' پیدا نشد.\")\n",
    "    except Exception as e:\n",
    "        print(f\"خطا در حین جایگزینی کلمه: {e}\")\n",
    "\n",
    "\n",
    "file_path = 'example.txt'  \n",
    "old_word = 'کلمه_قدیمی'  \n",
    "new_word = 'کلمه_جدید'  \n",
    "replace_word_in_file(file_path, old_word, new_word)\n"
   ]
  },
  {
   "cell_type": "code",
   "execution_count": null,
   "metadata": {},
   "outputs": [],
   "source": [
    "#3"
   ]
  },
  {
   "cell_type": "code",
   "execution_count": 3,
   "metadata": {},
   "outputs": [
    {
     "name": "stdout",
     "output_type": "stream",
     "text": [
      "لیست اعداد رندم: [85, 69, 77, 26, 77, 38, 82, 99, 18, 59]\n",
      "لیست اعداد زوج: [26, 38, 82, 18]\n",
      "لیست اعداد فرد: [85, 69, 77, 77, 99, 59]\n"
     ]
    }
   ],
   "source": [
    "import random\n",
    "\n",
    "def generate_random_list(size):\n",
    "\n",
    "    return [random.randint(1, 100) for _ in range(size)]\n",
    "\n",
    "def split_even_odd(numbers):\n",
    "\n",
    "    even_numbers = []\n",
    "    odd_numbers = []\n",
    "    \n",
    "    for number in numbers:\n",
    "        if number % 2 == 0:\n",
    "            even_numbers.append(number)\n",
    "        else:\n",
    "            odd_numbers.append(number)\n",
    "\n",
    "    return even_numbers, odd_numbers\n",
    "\n",
    "\n",
    "random_list = generate_random_list(10)\n",
    "print(\"لیست اعداد رندم:\", random_list)\n",
    "\n",
    "\n",
    "even_list, odd_list = split_even_odd(random_list)\n",
    "print(\"لیست اعداد زوج:\", even_list)\n",
    "print(\"لیست اعداد فرد:\", odd_list)\n"
   ]
  },
  {
   "cell_type": "markdown",
   "metadata": {},
   "source": [
    "#4"
   ]
  },
  {
   "cell_type": "code",
   "execution_count": 4,
   "metadata": {},
   "outputs": [
    {
     "name": "stdout",
     "output_type": "stream",
     "text": [
      "[0, 5, 6, 10, 12, 15, 18, 20, 24, 25, 30, 35, 36, 40, 42, 45, 48, 50, 54, 55, 60, 65, 66, 70, 72, 75, 78, 80, 84, 85, 90, 95, 96, 100]\n"
     ]
    }
   ],
   "source": [
    "divisible_by_5_or_6 = [x for x in range(101) if x % 5 == 0 or x % 6 == 0]\n",
    "print(divisible_by_5_or_6)\n"
   ]
  },
  {
   "cell_type": "markdown",
   "metadata": {},
   "source": [
    "#5"
   ]
  },
  {
   "cell_type": "code",
   "execution_count": 6,
   "metadata": {},
   "outputs": [
    {
     "ename": "ModuleNotFoundError",
     "evalue": "No module named 'jpcalendar'",
     "output_type": "error",
     "traceback": [
      "\u001b[1;31m---------------------------------------------------------------------------\u001b[0m",
      "\u001b[1;31mModuleNotFoundError\u001b[0m                       Traceback (most recent call last)",
      "Cell \u001b[1;32mIn[6], line 3\u001b[0m\n\u001b[0;32m      1\u001b[0m \u001b[38;5;28;01mimport\u001b[39;00m \u001b[38;5;21;01mrequests\u001b[39;00m\n\u001b[0;32m      2\u001b[0m \u001b[38;5;28;01mfrom\u001b[39;00m \u001b[38;5;21;01mdatetime\u001b[39;00m \u001b[38;5;28;01mimport\u001b[39;00m datetime\n\u001b[1;32m----> 3\u001b[0m \u001b[38;5;28;01mfrom\u001b[39;00m \u001b[38;5;21;01mjpcalendar\u001b[39;00m \u001b[38;5;28;01mimport\u001b[39;00m JpDate\n\u001b[0;32m      5\u001b[0m \u001b[38;5;28;01mdef\u001b[39;00m \u001b[38;5;21mget_air_quality_index\u001b[39m(api_url):\n\u001b[0;32m      7\u001b[0m     \u001b[38;5;28;01mtry\u001b[39;00m:\n",
      "\u001b[1;31mModuleNotFoundError\u001b[0m: No module named 'jpcalendar'"
     ]
    }
   ],
   "source": [
    "import requests\n",
    "from datetime import datetime\n",
    "from jpcalendar import JpDate\n",
    "\n",
    "def get_air_quality_index(api_url):\n",
    "\n",
    "    try:\n",
    "\n",
    "        response = requests.get(api_url)\n",
    "        response.raise_for_status()  \n",
    "\n",
    "\n",
    "        data = response.json()\n",
    "        aqi = data.get(\"aqi\")\n",
    "\n",
    "\n",
    "        now = datetime.now()\n",
    "        jp_date = JpDate(now.year, now.month, now.day)\n",
    "\n",
    "\n",
    "        filename = 'air_quality_index.txt'\n",
    "        with open(filename, 'a') as file:\n",
    "            file.write(f\"تاریخ شمسی: {jp_date} - شاخص آلودگی: {aqi}\\n\")\n",
    "\n",
    "        print(f\"شاخص آلودگی با موفقیت ذخیره شد: {jp_date} - {aqi}\")\n",
    "\n",
    "    except requests.exceptions.RequestException as e:\n",
    "        print(f\"خطا در دسترسی به API: {e}\")\n",
    "    except Exception as e:\n",
    "        print(f\"خطا: {e}\")\n",
    "\n",
    "\n",
    "api_url = 'https://مثال.api.com/air_quality'  \n",
    "get_air_quality_index(api_url)\n"
   ]
  },
  {
   "cell_type": "markdown",
   "metadata": {},
   "source": [
    "#6"
   ]
  },
  {
   "cell_type": "code",
   "execution_count": 7,
   "metadata": {},
   "outputs": [
    {
     "name": "stdout",
     "output_type": "stream",
     "text": [
      "فایل example.txt پیدا نشد.\n"
     ]
    },
    {
     "ename": "TypeError",
     "evalue": "'NoneType' object is not iterable",
     "output_type": "error",
     "traceback": [
      "\u001b[1;31m---------------------------------------------------------------------------\u001b[0m",
      "\u001b[1;31mTypeError\u001b[0m                                 Traceback (most recent call last)",
      "Cell \u001b[1;32mIn[7], line 22\u001b[0m\n\u001b[0;32m     18\u001b[0m n \u001b[38;5;241m=\u001b[39m \u001b[38;5;241m5\u001b[39m  \n\u001b[0;32m     19\u001b[0m last_lines \u001b[38;5;241m=\u001b[39m read_last_n_lines(file_path, n)\n\u001b[1;32m---> 22\u001b[0m \u001b[38;5;28;01mfor\u001b[39;00m line \u001b[38;5;129;01min\u001b[39;00m last_lines:\n\u001b[0;32m     23\u001b[0m     \u001b[38;5;28mprint\u001b[39m(line\u001b[38;5;241m.\u001b[39mstrip())\n",
      "\u001b[1;31mTypeError\u001b[0m: 'NoneType' object is not iterable"
     ]
    }
   ],
   "source": [
    "def read_last_n_lines(file_path, n):\n",
    "\n",
    "    try:\n",
    "        with open(file_path, 'r', encoding='utf-8') as file:\n",
    "\n",
    "            lines = file.readlines()\n",
    "\n",
    "\n",
    "        return lines[-n:] if n <= len(lines) else lines\n",
    "\n",
    "    except FileNotFoundError:\n",
    "        print(f\"فایل {file_path} پیدا نشد.\")\n",
    "    except Exception as e:\n",
    "        print(f\"خطا: {e}\")\n",
    "\n",
    "\n",
    "file_path = 'example.txt'  \n",
    "n = 5  \n",
    "last_lines = read_last_n_lines(file_path, n)\n",
    "\n",
    "\n",
    "for line in last_lines:\n",
    "    print(line.strip())\n"
   ]
  },
  {
   "cell_type": "markdown",
   "metadata": {},
   "source": [
    "#7"
   ]
  },
  {
   "cell_type": "code",
   "execution_count": null,
   "metadata": {},
   "outputs": [],
   "source": [
    "def read_first_n_lines(file_path, n):\n",
    "\n",
    "    try:\n",
    "        with open(file_path, 'r', encoding='utf-8') as file:\n",
    "\n",
    "            lines = [next(file) for _ in range(n)]\n",
    "        return lines\n",
    "\n",
    "    except FileNotFoundError:\n",
    "        print(f\"فایل {file_path} پیدا نشد.\")\n",
    "        return []\n",
    "    except StopIteration:\n",
    "        print(f\"فایل {file_path} کمتر از {n} خط دارد.\")\n",
    "        return []\n",
    "    except Exception as e:\n",
    "        print(f\"خطا: {e}\")\n",
    "        return []\n",
    "\n",
    "\n",
    "file_path = 'example.txt'  \n",
    "n = 5  \n",
    "first_lines = read_first_n_lines(file_path, n)\n",
    "\n",
    "\n",
    "for line in first_lines:\n",
    "    print(line.strip())\n"
   ]
  }
 ],
 "metadata": {
  "kernelspec": {
   "display_name": "Python 3",
   "language": "python",
   "name": "python3"
  },
  "language_info": {
   "codemirror_mode": {
    "name": "ipython",
    "version": 3
   },
   "file_extension": ".py",
   "mimetype": "text/x-python",
   "name": "python",
   "nbconvert_exporter": "python",
   "pygments_lexer": "ipython3",
   "version": "3.10.11"
  }
 },
 "nbformat": 4,
 "nbformat_minor": 2
}
