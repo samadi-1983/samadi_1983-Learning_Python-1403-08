{
 "cells": [
  {
   "cell_type": "markdown",
   "metadata": {},
   "source": [
    "#1"
   ]
  },
  {
   "cell_type": "code",
   "execution_count": 4,
   "metadata": {},
   "outputs": [
    {
     "name": "stdout",
     "output_type": "stream",
     "text": [
      "4321\n",
      "-6542\n"
     ]
    }
   ],
   "source": [
    "def reverse(number):\n",
    "\n",
    "    \n",
    "    is_negative = number < 0\n",
    "\n",
    "    reversed_number_str = str(abs(number))[::-1]\n",
    "\n",
    "    reversed_number = int(reversed_number_str)\n",
    "    \n",
    "    if is_negative:\n",
    "        reversed_number = -reversed_number\n",
    "    \n",
    "    return reversed_number\n",
    "\n",
    "\n",
    "print(reverse(1234))  \n",
    "print(reverse(-2456)) "
   ]
  },
  {
   "cell_type": "markdown",
   "metadata": {},
   "source": [
    "#2"
   ]
  },
  {
   "cell_type": "code",
   "execution_count": 5,
   "metadata": {},
   "outputs": [
    {
     "name": "stdout",
     "output_type": "stream",
     "text": [
      "4.0\n",
      "4.333333333333333\n",
      "0\n"
     ]
    }
   ],
   "source": [
    "import string\n",
    "\n",
    "def avglengh(sentence):\n",
    "\n",
    "    translator = str.maketrans('', '', string.punctuation)\n",
    "    cleaned_sentence = sentence.translate(translator)\n",
    "    \n",
    "    words = cleaned_sentence.split()\n",
    "    \n",
    "    total_length = sum(len(word) for word in words)\n",
    "    \n",
    "    if len(words) == 0:\n",
    "        return 0\n",
    "    \n",
    "    avg_length = total_length / len(words)\n",
    "    \n",
    "    return avg_length\n",
    "\n",
    "\n",
    "print(avglengh(\"Hello, world! How are you today?\"))  \n",
    "print(avglengh(\"Python is great.\"))                    \n",
    "print(avglengh(\"!@#$%^&*()\"))                           \n"
   ]
  },
  {
   "cell_type": "markdown",
   "metadata": {},
   "source": [
    "#3"
   ]
  },
  {
   "cell_type": "code",
   "execution_count": 6,
   "metadata": {},
   "outputs": [
    {
     "name": "stdout",
     "output_type": "stream",
     "text": [
      "448\n"
     ]
    }
   ],
   "source": [
    "def addString(num1, num2):\n",
    "\n",
    "\n",
    "    number1 = int(num1)\n",
    "    number2 = int(num2)\n",
    "    \n",
    "\n",
    "    result = number1 + number2\n",
    "    \n",
    "    return result\n",
    "\n",
    "output = addString(\"423\", \"25\")\n",
    "print(output)  \n"
   ]
  },
  {
   "cell_type": "markdown",
   "metadata": {},
   "source": [
    "#4"
   ]
  },
  {
   "cell_type": "code",
   "execution_count": 7,
   "metadata": {},
   "outputs": [
    {
     "name": "stdout",
     "output_type": "stream",
     "text": [
      "1\n",
      "0\n",
      "-1\n"
     ]
    }
   ],
   "source": [
    "def firstUChar(s):\n",
    "\n",
    "    char_count = {}\n",
    "    \n",
    "\n",
    "    for char in s:\n",
    "        char_count[char] = char_count.get(char, 0) + 1\n",
    "    \n",
    "    for index, char in enumerate(s):\n",
    "        if char_count[char] == 1:\n",
    "            return index\n",
    "            \n",
    "    return -1  \n",
    "\n",
    "\n",
    "print(firstUChar(\"swiss\"))  \n",
    "print(firstUChar(\"hello\"))  \n",
    "print(firstUChar(\"aabbcc\"))  \n"
   ]
  }
 ],
 "metadata": {
  "kernelspec": {
   "display_name": "Python 3",
   "language": "python",
   "name": "python3"
  },
  "language_info": {
   "codemirror_mode": {
    "name": "ipython",
    "version": 3
   },
   "file_extension": ".py",
   "mimetype": "text/x-python",
   "name": "python",
   "nbconvert_exporter": "python",
   "pygments_lexer": "ipython3",
   "version": "3.10.11"
  }
 },
 "nbformat": 4,
 "nbformat_minor": 2
}
