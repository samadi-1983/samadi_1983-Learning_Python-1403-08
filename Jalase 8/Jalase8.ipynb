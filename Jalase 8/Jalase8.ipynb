{
 "cells": [
  {
   "cell_type": "markdown",
   "metadata": {},
   "source": [
    "#1"
   ]
  },
  {
   "cell_type": "code",
   "execution_count": 1,
   "metadata": {},
   "outputs": [
    {
     "name": "stdout",
     "output_type": "stream",
     "text": [
      "[5, 4, 3, 2, 1]\n"
     ]
    }
   ],
   "source": [
    "def reverse_list(input_list):\n",
    "    return input_list[::-1]\n",
    "\n",
    "\n",
    "original_list = [1, 2, 3, 4, 5]\n",
    "reversed_list = reverse_list(original_list)\n",
    "print(reversed_list)  # خروجی: [5, 4, 3, 2, 1]"
   ]
  },
  {
   "cell_type": "markdown",
   "metadata": {},
   "source": [
    "#2"
   ]
  },
  {
   "cell_type": "code",
   "execution_count": 2,
   "metadata": {},
   "outputs": [
    {
     "name": "stdout",
     "output_type": "stream",
     "text": [
      "Python programming\n"
     ]
    }
   ],
   "source": [
    "def find_largest(input_list):\n",
    "    largest_string = \"\"\n",
    "    largest_number = float('-inf') \n",
    "\n",
    "    for item in input_list:\n",
    "        if isinstance(item, str):  \n",
    "            if len(item) > len(largest_string):\n",
    "                largest_string = item\n",
    "        elif isinstance(item, (int, float)): \n",
    "            if item > largest_number:\n",
    "                largest_number = item\n",
    "\n",
    "    \n",
    "    if len(largest_string) > len(str(largest_number)):\n",
    "        return largest_string\n",
    "    else:\n",
    "        return largest_number\n",
    "\n",
    "\n",
    "mixed_list = [10, \"hello\", 52.3, \"worldwide\", 100, \"Python programming\"]\n",
    "largest_value = find_largest(mixed_list)\n",
    "print(largest_value)  # خروجی: \"Python programming\""
   ]
  },
  {
   "cell_type": "markdown",
   "metadata": {},
   "source": [
    "#3"
   ]
  },
  {
   "cell_type": "code",
   "execution_count": 5,
   "metadata": {},
   "outputs": [
    {
     "name": "stdout",
     "output_type": "stream",
     "text": [
      "امتیاز منفی: 2\n",
      "گواهینامه شما باطل شد\n"
     ]
    }
   ],
   "source": [
    "def check_speed(speed):\n",
    "    speed_limit = 70\n",
    "    penalty_per_5_km = 5\n",
    "    max_penalty_points = 12\n",
    "\n",
    "    if speed < speed_limit:\n",
    "        return \"good\"\n",
    "    else:\n",
    "        # محاسبه امتیازات منفی\n",
    "        penalty_points = (speed - speed_limit) // penalty_per_5_km\n",
    "        if penalty_points > max_penalty_points:\n",
    "            return \"گواهینامه شما باطل شد\"\n",
    "        else:\n",
    "            return f\"امتیاز منفی: {penalty_points}\"\n",
    "\n",
    "# مثال استفاده\n",
    "speed_input_1 = 80\n",
    "result_1 = check_speed(speed_input_1)\n",
    "print(result_1)  # خروجی: \"امتیاز منفی: 2\"\n",
    "\n",
    "speed_input_2 = 140\n",
    "result_2 = check_speed(speed_input_2)\n",
    "print(result_2)  # خروجی: \"گواهینامه شما باطل شد\""
   ]
  },
  {
   "cell_type": "markdown",
   "metadata": {},
   "source": [
    "#4"
   ]
  },
  {
   "cell_type": "code",
   "execution_count": 7,
   "metadata": {},
   "outputs": [
    {
     "name": "stdout",
     "output_type": "stream",
     "text": [
      "فاصله اقلیدسی: 5.0\n"
     ]
    }
   ],
   "source": [
    "import math\n",
    "\n",
    "def euclidean_distance(point_a, point_b):\n",
    "    x1, y1 = point_a\n",
    "    x2, y2 = point_b\n",
    "    distance = math.sqrt((x2 - x1) ** 2 + (y2 - y1) ** 2)\n",
    "    return distance\n",
    "\n",
    "\n",
    "point_a = (1, 2)\n",
    "point_b = (4, 6)\n",
    "distance = euclidean_distance(point_a, point_b)\n",
    "print(f\"فاصله اقلیدسی: {distance}\")  \n"
   ]
  },
  {
   "cell_type": "markdown",
   "metadata": {},
   "source": [
    "#5"
   ]
  },
  {
   "cell_type": "code",
   "execution_count": 8,
   "metadata": {},
   "outputs": [
    {
     "name": "stdout",
     "output_type": "stream",
     "text": [
      "نقاط هم‌راستا هستند.\n"
     ]
    }
   ],
   "source": [
    "def are_points_collinear(p1, p2, p3):\n",
    "    x1, y1 = p1\n",
    "    x2, y2 = p2\n",
    "    x3, y3 = p3\n",
    "\n",
    "\n",
    "    area = 0.5 * abs(x1 * (y2 - y3) + x2 * (y3 - y1) + x3 * (y1 - y2))\n",
    "\n",
    "    \n",
    "    return area == 0\n",
    "\n",
    "\n",
    "point1 = (1, 2)\n",
    "point2 = (2, 3)\n",
    "point3 = (3, 4)\n",
    "\n",
    "if are_points_collinear(point1, point2, point3):\n",
    "    print(\"نقاط هم‌راستا هستند.\")\n",
    "else:\n",
    "    print(\"نقاط هم‌راستا نیستند.\")\n"
   ]
  },
  {
   "cell_type": "markdown",
   "metadata": {},
   "source": [
    "#6"
   ]
  },
  {
   "cell_type": "code",
   "execution_count": null,
   "metadata": {},
   "outputs": [
    {
     "name": "stdout",
     "output_type": "stream",
     "text": [
      "مثلث متساوی الساقین\n"
     ]
    }
   ],
   "source": [
    "import math\n",
    "\n",
    "def distance(p1, p2):\n",
    "    return math.sqrt((p2[0] - p1[0]) ** 2 + (p2[1] - p1[1]) ** 2)\n",
    "\n",
    "def triangle_type(p1, p2, p3):\n",
    "\n",
    "    d1 = distance(p1, p2)\n",
    "    d2 = distance(p2, p3)\n",
    "    d3 = distance(p3, p1)\n",
    "    \n",
    "\n",
    "    area = 0.5 * abs(\n",
    "        p1[0] * (p2[1] - p3[1]) +\n",
    "        p2[0] * (p3[1] - p1[1]) +\n",
    "        p3[0] * (p1[1] - p2[1])\n",
    "    )\n",
    "\n",
    "    if area == 0:\n",
    "        return \"نقاط همراستا هستند و مثلث تشکیل نمی‌دهند.\"\n",
    "    \n",
    "\n",
    "    if d1 == d2 == d3:\n",
    "        return \"مثلث متساوی الاضلاع\"\n",
    "    elif d1 == d2 or d2 == d3 or d1 == d3:\n",
    "        return \"مثلث متساوی الساقین\"\n",
    "    else:\n",
    "\n",
    "        sides_squared = sorted([d1**2, d2**2, d3**2])\n",
    "        if abs(sides_squared[0] + sides_squared[1] - sides_squared[2]) < 1e-9:\n",
    "            return \"مثلث قائم الزاویه\"\n",
    "        else:\n",
    "            return \"مثلث معمولی\"\n",
    "\n",
    "\n",
    "point1 = (0, 0)\n",
    "point2 = (3, 4)\n",
    "point3 = (6, 0)\n",
    "\n",
    "result = triangle_type(point1, point2, point3)\n",
    "print(result)\n"
   ]
  },
  {
   "cell_type": "markdown",
   "metadata": {},
   "source": [
    "#7"
   ]
  },
  {
   "cell_type": "code",
   "execution_count": 10,
   "metadata": {},
   "outputs": [
    {
     "name": "stdout",
     "output_type": "stream",
     "text": [
      "دیکشنری ورودی: {'a': 1, 'b': 2, 'c': 3}\n",
      "دیکشنری جدید: {1: 'a', 2: 'b', 3: 'c'}\n"
     ]
    }
   ],
   "source": [
    "def swap_dict(original_dict):\n",
    "\n",
    "    new_dict = {}\n",
    "    for key, value in original_dict.items():\n",
    "        new_dict[value] = key\n",
    "    return new_dict\n",
    "\n",
    "\n",
    "input_dict = {'a': 1, 'b': 2, 'c': 3}\n",
    "output_dict = swap_dict(input_dict)\n",
    "\n",
    "print(\"دیکشنری ورودی:\", input_dict)\n",
    "print(\"دیکشنری جدید:\", output_dict)\n"
   ]
  },
  {
   "cell_type": "markdown",
   "metadata": {},
   "source": [
    "#8"
   ]
  },
  {
   "cell_type": "code",
   "execution_count": 11,
   "metadata": {},
   "outputs": [
    {
     "name": "stdout",
     "output_type": "stream",
     "text": [
      "نقاط ورودی: [(3, 4), (1, 1), (0, 2), (5, 5), (-2, -2)]\n",
      "نقاط مرتب شده بر اساس فاصله از مرکز: [(1, 1), (0, 2), (-2, -2), (3, 4), (5, 5)]\n"
     ]
    }
   ],
   "source": [
    "import math\n",
    "\n",
    "def distance_from_center(point):\n",
    "\n",
    "    return math.sqrt(point[0]**2 + point[1]**2)\n",
    "\n",
    "def sort_points_by_distance(points):\n",
    "\n",
    "    # استفاده از تابع distance_from_center برای محاسبه فاصله و مرتب‌سازی\n",
    "    sorted_points = sorted(points, key=distance_from_center)\n",
    "    return sorted_points\n",
    "\n",
    "\n",
    "points = [(3, 4), (1, 1), (0, 2), (5, 5), (-2, -2)]\n",
    "sorted_points = sort_points_by_distance(points)\n",
    "\n",
    "print(\"نقاط ورودی:\", points)\n",
    "print(\"نقاط مرتب شده بر اساس فاصله از مرکز:\", sorted_points)\n"
   ]
  }
 ],
 "metadata": {
  "kernelspec": {
   "display_name": "Python 3",
   "language": "python",
   "name": "python3"
  },
  "language_info": {
   "codemirror_mode": {
    "name": "ipython",
    "version": 3
   },
   "file_extension": ".py",
   "mimetype": "text/x-python",
   "name": "python",
   "nbconvert_exporter": "python",
   "pygments_lexer": "ipython3",
   "version": "3.10.11"
  }
 },
 "nbformat": 4,
 "nbformat_minor": 2
}
